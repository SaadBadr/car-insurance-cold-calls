{
 "cells": [
  {
   "cell_type": "markdown",
   "id": "4fce9045",
   "metadata": {},
   "source": [
    "Hello everyone,\n",
    "\n",
    "In this project, it is required to build a classification model for Car Insurance cold calls result (customer buys it or not).\n",
    "We will work with the [Car Insurance Cold Calls](https://www.kaggle.com/datasets/kondla/carinsurance) dataset.\n",
    "\n",
    "At first, what are the main steps we should go through in this project?\n",
    "\n",
    "# TODOs:\n",
    "\n",
    "1. Understand the problem (look at the big picture)\n",
    "2. Get and split data\n",
    "3. Analysis and Visualization\n",
    "3. Features extraction\n",
    "3. Model Selection\n",
    "3. Result"
   ]
  },
  {
   "cell_type": "markdown",
   "id": "a5c65d11",
   "metadata": {},
   "source": [
    "# 1. Understand the problem"
   ]
  },
  {
   "cell_type": "markdown",
   "id": "e04ae4ff",
   "metadata": {},
   "source": [
    "This is a dataset from one bank in the United States. this bank also provides car \n",
    "insurance services. The bank organizes regular campaigns to attract new clients. The bank has potential \n",
    "customers’ data, and bank’s employees call them for advertising available car insurance options. We are \n",
    "provided with general information about clients (age, job, etc.) as well as more specific information about the \n",
    "current insurance sell campaign (communication, last contact day) and previous campaigns (attributes like \n",
    "previous attempts, outcome). \n",
    "We have data about customers who were contacted during the last campaign and for whom the results \n",
    "of campaign (did the customer buy insurance or not) are known"
   ]
  },
  {
   "cell_type": "code",
   "execution_count": 1,
   "id": "45629c4d",
   "metadata": {},
   "outputs": [],
   "source": [
    "##################################################### imports #####################################################\n",
    "import matplotlib.pyplot as plt\n",
    "import pandas as pd\n",
    "import numpy as np\n",
    "import seaborn as sns\n",
    "sns.set()"
   ]
  },
  {
   "cell_type": "markdown",
   "id": "cb454aa4",
   "metadata": {},
   "source": [
    "# 2. Get and split data"
   ]
  },
  {
   "cell_type": "markdown",
   "id": "d0cb9e3d",
   "metadata": {},
   "source": [
    "## 2.1 Get Data"
   ]
  },
  {
   "cell_type": "code",
   "execution_count": 2,
   "id": "84bb3739",
   "metadata": {},
   "outputs": [
    {
     "data": {
      "text/html": [
       "<div>\n",
       "<style scoped>\n",
       "    .dataframe tbody tr th:only-of-type {\n",
       "        vertical-align: middle;\n",
       "    }\n",
       "\n",
       "    .dataframe tbody tr th {\n",
       "        vertical-align: top;\n",
       "    }\n",
       "\n",
       "    .dataframe thead th {\n",
       "        text-align: right;\n",
       "    }\n",
       "</style>\n",
       "<table border=\"1\" class=\"dataframe\">\n",
       "  <thead>\n",
       "    <tr style=\"text-align: right;\">\n",
       "      <th></th>\n",
       "      <th>Id</th>\n",
       "      <th>Age</th>\n",
       "      <th>Job</th>\n",
       "      <th>Marital</th>\n",
       "      <th>Education</th>\n",
       "      <th>Default</th>\n",
       "      <th>Balance</th>\n",
       "      <th>HHInsurance</th>\n",
       "      <th>CarLoan</th>\n",
       "      <th>Communication</th>\n",
       "      <th>LastContactDay</th>\n",
       "      <th>LastContactMonth</th>\n",
       "      <th>NoOfContacts</th>\n",
       "      <th>DaysPassed</th>\n",
       "      <th>PrevAttempts</th>\n",
       "      <th>Outcome</th>\n",
       "      <th>CallStart</th>\n",
       "      <th>CallEnd</th>\n",
       "      <th>CarInsurance</th>\n",
       "    </tr>\n",
       "  </thead>\n",
       "  <tbody>\n",
       "    <tr>\n",
       "      <th>0</th>\n",
       "      <td>1</td>\n",
       "      <td>32</td>\n",
       "      <td>management</td>\n",
       "      <td>single</td>\n",
       "      <td>tertiary</td>\n",
       "      <td>0</td>\n",
       "      <td>1218</td>\n",
       "      <td>1</td>\n",
       "      <td>0</td>\n",
       "      <td>telephone</td>\n",
       "      <td>28</td>\n",
       "      <td>jan</td>\n",
       "      <td>2</td>\n",
       "      <td>-1</td>\n",
       "      <td>0</td>\n",
       "      <td>NaN</td>\n",
       "      <td>13:45:20</td>\n",
       "      <td>13:46:30</td>\n",
       "      <td>0</td>\n",
       "    </tr>\n",
       "    <tr>\n",
       "      <th>1</th>\n",
       "      <td>2</td>\n",
       "      <td>32</td>\n",
       "      <td>blue-collar</td>\n",
       "      <td>married</td>\n",
       "      <td>primary</td>\n",
       "      <td>0</td>\n",
       "      <td>1156</td>\n",
       "      <td>1</td>\n",
       "      <td>0</td>\n",
       "      <td>NaN</td>\n",
       "      <td>26</td>\n",
       "      <td>may</td>\n",
       "      <td>5</td>\n",
       "      <td>-1</td>\n",
       "      <td>0</td>\n",
       "      <td>NaN</td>\n",
       "      <td>14:49:03</td>\n",
       "      <td>14:52:08</td>\n",
       "      <td>0</td>\n",
       "    </tr>\n",
       "    <tr>\n",
       "      <th>2</th>\n",
       "      <td>3</td>\n",
       "      <td>29</td>\n",
       "      <td>management</td>\n",
       "      <td>single</td>\n",
       "      <td>tertiary</td>\n",
       "      <td>0</td>\n",
       "      <td>637</td>\n",
       "      <td>1</td>\n",
       "      <td>0</td>\n",
       "      <td>cellular</td>\n",
       "      <td>3</td>\n",
       "      <td>jun</td>\n",
       "      <td>1</td>\n",
       "      <td>119</td>\n",
       "      <td>1</td>\n",
       "      <td>failure</td>\n",
       "      <td>16:30:24</td>\n",
       "      <td>16:36:04</td>\n",
       "      <td>1</td>\n",
       "    </tr>\n",
       "    <tr>\n",
       "      <th>3</th>\n",
       "      <td>4</td>\n",
       "      <td>25</td>\n",
       "      <td>student</td>\n",
       "      <td>single</td>\n",
       "      <td>primary</td>\n",
       "      <td>0</td>\n",
       "      <td>373</td>\n",
       "      <td>1</td>\n",
       "      <td>0</td>\n",
       "      <td>cellular</td>\n",
       "      <td>11</td>\n",
       "      <td>may</td>\n",
       "      <td>2</td>\n",
       "      <td>-1</td>\n",
       "      <td>0</td>\n",
       "      <td>NaN</td>\n",
       "      <td>12:06:43</td>\n",
       "      <td>12:20:22</td>\n",
       "      <td>1</td>\n",
       "    </tr>\n",
       "    <tr>\n",
       "      <th>4</th>\n",
       "      <td>5</td>\n",
       "      <td>30</td>\n",
       "      <td>management</td>\n",
       "      <td>married</td>\n",
       "      <td>tertiary</td>\n",
       "      <td>0</td>\n",
       "      <td>2694</td>\n",
       "      <td>0</td>\n",
       "      <td>0</td>\n",
       "      <td>cellular</td>\n",
       "      <td>3</td>\n",
       "      <td>jun</td>\n",
       "      <td>1</td>\n",
       "      <td>-1</td>\n",
       "      <td>0</td>\n",
       "      <td>NaN</td>\n",
       "      <td>14:35:44</td>\n",
       "      <td>14:38:56</td>\n",
       "      <td>0</td>\n",
       "    </tr>\n",
       "  </tbody>\n",
       "</table>\n",
       "</div>"
      ],
      "text/plain": [
       "   Id  Age          Job  Marital Education  Default  Balance  HHInsurance  \\\n",
       "0   1   32   management   single  tertiary        0     1218            1   \n",
       "1   2   32  blue-collar  married   primary        0     1156            1   \n",
       "2   3   29   management   single  tertiary        0      637            1   \n",
       "3   4   25      student   single   primary        0      373            1   \n",
       "4   5   30   management  married  tertiary        0     2694            0   \n",
       "\n",
       "   CarLoan Communication  LastContactDay LastContactMonth  NoOfContacts  \\\n",
       "0        0     telephone              28              jan             2   \n",
       "1        0           NaN              26              may             5   \n",
       "2        0      cellular               3              jun             1   \n",
       "3        0      cellular              11              may             2   \n",
       "4        0      cellular               3              jun             1   \n",
       "\n",
       "   DaysPassed  PrevAttempts  Outcome CallStart   CallEnd  CarInsurance  \n",
       "0          -1             0      NaN  13:45:20  13:46:30             0  \n",
       "1          -1             0      NaN  14:49:03  14:52:08             0  \n",
       "2         119             1  failure  16:30:24  16:36:04             1  \n",
       "3          -1             0      NaN  12:06:43  12:20:22             1  \n",
       "4          -1             0      NaN  14:35:44  14:38:56             0  "
      ]
     },
     "execution_count": 2,
     "metadata": {},
     "output_type": "execute_result"
    }
   ],
   "source": [
    "df = pd.read_csv('./dataset/carInsurance_train.csv')\n",
    "df.head()"
   ]
  },
  {
   "cell_type": "markdown",
   "id": "ca9adbf3",
   "metadata": {},
   "source": [
    "## 2.2 Split Data "
   ]
  },
  {
   "cell_type": "markdown",
   "id": "0e3ae728",
   "metadata": {},
   "source": [
    "Here we see the effect of different epsilons and sample sizes on the probability of the error being within these epsilons\n",
    "    \n",
    "        The lower the epsilon the more data we need\n",
    "        where epsilon is the maximum deviation of test error from out of sample error"
   ]
  },
  {
   "cell_type": "code",
   "execution_count": 78,
   "id": "76d02c9f",
   "metadata": {},
   "outputs": [
    {
     "data": {
      "image/png": "[encoded data removed]",
      "text/plain": [
       "<Figure size 432x288 with 1 Axes>"
      ]
     },
     "metadata": {},
     "output_type": "display_data"
    }
   ],
   "source": [
    "import numpy as np\n",
    "import math\n",
    "\n",
    "def hoeffding (x, epsilon):\n",
    "\ty = 2.0 * math.exp (-2*epsilon*epsilon*x)\n",
    "\treturn y\n",
    "\n",
    "# Here we try sample sizes ranging from 2.5% to 17.5%\n",
    "x = [df.size * i/40 for i in range(1, 8)]\n",
    "\n",
    "y1 = [hoeffding (x, 0.014) for x in x]\n",
    "y2 = [hoeffding (x, 0.017) for x in x]\n",
    "y3 = [hoeffding (x, 0.018) for x in x]\n",
    "y4 = [hoeffding (x, 0.02) for x in x]\n",
    "\n",
    "import matplotlib.pyplot as plt\n",
    "\n",
    "plt.xlabel ('N')\n",
    "plt.ylabel ('P')\n",
    "latex1 = r'P\\leq2e^{\\left( -2\\varepsilon ^{2}N\\right)}'\n",
    "plt.title (r\"Hoeffding's Inequality: $ %s $\" % latex1)\n",
    "\n",
    "latext2 = r'\\varepsilon'\n",
    "plt.plot (x, y1, label='$%s$ = 0.014' % latext2)\n",
    "plt.plot (x, y2, label='$%s$ = 0.016' % latext2)\n",
    "plt.plot (x, y3, label='$%s$ = 0.018' % latext2)\n",
    "plt.plot (x, y4, label='$%s$ = 0.02' % latext2)\n",
    "\n",
    "plt.legend ()\n",
    "plt.show ()"
   ]
  },
  {
   "cell_type": "markdown",
   "id": "b2cf183c",
   "metadata": {},
   "source": [
    "Here we see the effect of fixing epsilon at 0.15 (max deviation between Etst and Eout) while changing alpha (How certain we want to be that the error is within that epsilon)\n",
    "    \n",
    "        The lower the alpha the more data we need where alpha is `1 - P(how certain we want to be)`\n",
    "        If we want to be 99% certain then alpha is 0.01 "
   ]
  },
  {
   "cell_type": "code",
   "execution_count": 68,
   "id": "2eefd219",
   "metadata": {},
   "outputs": [
    {
     "data": {
      "image/png": "[encoded data removed]",
      "text/plain": [
       "<Figure size 432x288 with 1 Axes>"
      ]
     },
     "metadata": {},
     "output_type": "display_data"
    }
   ],
   "source": [
    "import math\n",
    "def Hoeffding_SampleSize(error, alpha): \n",
    "                          n = (-1//(2 * error**2)) * math.log(alpha/2) \n",
    "                          return n\n",
    "\n",
    "# Here we try alphas ranging from 1 to 0.0001                          \n",
    "x = [x / 1000 for x in range(1000, 1, -1)]\n",
    "y = [Hoeffding_SampleSize (0.015, x) for x in x]\n",
    "\n",
    "import matplotlib.pyplot as plt\n",
    "\n",
    "plt.xlabel ('N')\n",
    "plt.ylabel ('alpha')\n",
    "latex1 = r'P\\leq2e^{\\left( -2\\varepsilon ^{2}N\\right)}'\n",
    "plt.title (r\"Hoeffding's Inequality: $ %s $\" % latex1)\n",
    "\n",
    "latext2 = r'\\varepsilon'\n",
    "plt.plot (y, x, label='$%s$ = 0.015' % latext2)\n",
    "\n",
    "plt.legend ()\n",
    "plt.show ()\n"
   ]
  },
  {
   "cell_type": "markdown",
   "id": "2135b245",
   "metadata": {},
   "source": [
    "### From that we can concur that a good number for the test data would be 7000 ~ 9000"
   ]
  },
  {
   "cell_type": "code",
   "execution_count": 36,
   "id": "96589154",
   "metadata": {},
   "outputs": [
    {
     "name": "stdout",
     "output_type": "stream",
     "text": [
      "[3800.0, 7600.0, 11400.0, 15200.0, 19000.0, 22800.0, 26600.0, 30400.0, 34200.0] 76000\n",
      "50400 6480 15120\n"
     ]
    }
   ],
   "source": [
    "print(x, df.size)\n",
    "print(X_train.size, X_test.size, X_validation.size)\n"
   ]
  },
  {
   "cell_type": "code",
   "execution_count": 3,
   "id": "c48a2c7d",
   "metadata": {},
   "outputs": [],
   "source": [
    "from sklearn.model_selection import train_test_split\n",
    "\n",
    "X_train, X_test, y_train, y_test = train_test_split(df.drop('CarInsurance', axis=1), df['CarInsurance'], test_size=0.3, random_state=42)\n",
    "X_validation, X_test, y_validation, y_test = train_test_split(X_test, y_test, test_size=0.3, random_state=42)"
   ]
  },
  {
   "cell_type": "code",
   "execution_count": 4,
   "id": "12bee9a7",
   "metadata": {},
   "outputs": [
    {
     "name": "stdout",
     "output_type": "stream",
     "text": [
      "total data samples: 4000 (100.0%)\n",
      "train samples: 2800 (70.0%)\n",
      "validation samples: 840 (20.0%)\n",
      "test samples: 360 (10.0%)\n",
      "Train Data is free of missing values: ❌\n"
     ]
    }
   ],
   "source": [
    "total_size = len(df)\n",
    "train_size, validation_size, test_size = len(y_train), len(y_validation), len(y_test)\n",
    "print(f'total data samples: {total_size} ({total_size/total_size * 100}%)')\n",
    "print(f'train samples: {train_size} ({round(train_size/total_size, 1) * 100}%)')\n",
    "print(f'validation samples: {validation_size} ({round(validation_size/total_size, 1) * 100}%)')\n",
    "print(f'test samples: {test_size} ({round(test_size/total_size, 1) * 100}%)')\n",
    "print(f'Train Data is free of missing values: {\"❌\" if X_train.isna().any().any() else \"✔\"}')"
   ]
  },
  {
   "cell_type": "markdown",
   "id": "0850a58e",
   "metadata": {},
   "source": [
    "lets check if the training data has some sort of unbalance."
   ]
  },
  {
   "cell_type": "code",
   "execution_count": 5,
   "id": "d2be1f99",
   "metadata": {},
   "outputs": [
    {
     "data": {
      "text/plain": [
       "(1670, 1130)"
      ]
     },
     "execution_count": 5,
     "metadata": {},
     "output_type": "execute_result"
    }
   ],
   "source": [
    "sum(y_train==0), sum(y_train==1)"
   ]
  },
  {
   "cell_type": "markdown",
   "id": "a8d2f956",
   "metadata": {},
   "source": [
    "There is no umbalance in the data ✔"
   ]
  },
  {
   "cell_type": "markdown",
   "id": "c0251641",
   "metadata": {},
   "source": [
    "# 3. Preprocessing"
   ]
  },
  {
   "cell_type": "markdown",
   "id": "e17e3994",
   "metadata": {},
   "source": [
    "## At first, we need to check null values"
   ]
  },
  {
   "cell_type": "code",
   "execution_count": 6,
   "id": "5707aeba",
   "metadata": {},
   "outputs": [
    {
     "name": "stdout",
     "output_type": "stream",
     "text": [
      "<class 'pandas.core.frame.DataFrame'>\n",
      "RangeIndex: 4000 entries, 0 to 3999\n",
      "Data columns (total 19 columns):\n",
      " #   Column            Non-Null Count  Dtype \n",
      "---  ------            --------------  ----- \n",
      " 0   Id                4000 non-null   int64 \n",
      " 1   Age               4000 non-null   int64 \n",
      " 2   Job               3981 non-null   object\n",
      " 3   Marital           4000 non-null   object\n",
      " 4   Education         3831 non-null   object\n",
      " 5   Default           4000 non-null   int64 \n",
      " 6   Balance           4000 non-null   int64 \n",
      " 7   HHInsurance       4000 non-null   int64 \n",
      " 8   CarLoan           4000 non-null   int64 \n",
      " 9   Communication     3098 non-null   object\n",
      " 10  LastContactDay    4000 non-null   int64 \n",
      " 11  LastContactMonth  4000 non-null   object\n",
      " 12  NoOfContacts      4000 non-null   int64 \n",
      " 13  DaysPassed        4000 non-null   int64 \n",
      " 14  PrevAttempts      4000 non-null   int64 \n",
      " 15  Outcome           958 non-null    object\n",
      " 16  CallStart         4000 non-null   object\n",
      " 17  CallEnd           4000 non-null   object\n",
      " 18  CarInsurance      4000 non-null   int64 \n",
      "dtypes: int64(11), object(8)\n",
      "memory usage: 593.9+ KB\n"
     ]
    }
   ],
   "source": [
    "df.info()"
   ]
  },
  {
   "cell_type": "markdown",
   "id": "1c5aa1f0",
   "metadata": {},
   "source": [
    "For now, lets drop `Outcome` as it about 75% missing data\n",
    "\n",
    "and also `Id` as it is useless"
   ]
  },
  {
   "cell_type": "code",
   "execution_count": 7,
   "id": "f2dd1bc8",
   "metadata": {},
   "outputs": [],
   "source": [
    "def preprocessingDrop(X):\n",
    "    return X.drop(['Id', 'Outcome'], axis=1, inplace=False)"
   ]
  },
  {
   "cell_type": "markdown",
   "id": "9ac6e9ec",
   "metadata": {},
   "source": [
    "Then, We need to impute the rest missing data.\n",
    "\n",
    "All are categorical data, so we will use mode (most-frequent) strategy."
   ]
  },
  {
   "cell_type": "code",
   "execution_count": 8,
   "id": "1e75ccbc",
   "metadata": {},
   "outputs": [
    {
     "data": {
      "text/plain": [
       "SimpleImputer(strategy='most_frequent')"
      ]
     },
     "execution_count": 8,
     "metadata": {},
     "output_type": "execute_result"
    }
   ],
   "source": [
    "from sklearn.impute import SimpleImputer\n",
    "\n",
    "tmp = preprocessingDrop(X_train)\n",
    "imputer = SimpleImputer(strategy='most_frequent')\n",
    "imputer.fit(tmp)"
   ]
  },
  {
   "cell_type": "markdown",
   "id": "b30d754a",
   "metadata": {},
   "source": [
    "### Now, we need to encode the categorical features"
   ]
  },
  {
   "cell_type": "markdown",
   "id": "a46e7204",
   "metadata": {},
   "source": [
    "Some feautures will be easy to encode, it's an ordered data that can be encoded as 0,1,2... as below"
   ]
  },
  {
   "cell_type": "code",
   "execution_count": 9,
   "id": "5b577e4c",
   "metadata": {},
   "outputs": [],
   "source": [
    "\n",
    "def encodeLastContactMonth(X):\n",
    "    months_dict = {\n",
    "        'jan':0,\n",
    "        'feb':1,\n",
    "        'mar':2,\n",
    "        'apr':3,\n",
    "        'may':4,\n",
    "        'jun':5,\n",
    "        'jul':6,\n",
    "        'aug':7,\n",
    "        'sep':8,\n",
    "        'oct':9,\n",
    "        'nov':10,\n",
    "        'dec':11\n",
    "    }\n",
    "\n",
    "    X = X.copy()\n",
    "    X['LastContactMonth'] = X['LastContactMonth'].replace(months_dict)\n",
    "    return X\n",
    "\n",
    "def encodeCommunication(X):\n",
    "    X = X.copy()\n",
    "    X['Communication'] = X['Communication'].replace({'telephone':0, 'cellular':1})\n",
    "    return X\n",
    "    \n",
    "def encodeMarital(X):\n",
    "    X = X.copy()\n",
    "    X['Marital'] = X['Marital'].replace({'divorced':0, 'single':1, 'married':2})\n",
    "    return X\n",
    "\n",
    "def encodeEducation(X):\n",
    "    X = X.copy()\n",
    "    X['Education'] = X['Education'].replace({'primary':0, 'secondary':1, 'tertiary':2})\n",
    "    return X"
   ]
  },
  {
   "cell_type": "code",
   "execution_count": 10,
   "id": "e24ac667",
   "metadata": {},
   "outputs": [
    {
     "name": "stdout",
     "output_type": "stream",
     "text": [
      "<class 'pandas.core.frame.DataFrame'>\n",
      "Int64Index: 2800 entries, 3215 to 3174\n",
      "Data columns (total 18 columns):\n",
      " #   Column            Non-Null Count  Dtype \n",
      "---  ------            --------------  ----- \n",
      " 0   Id                2800 non-null   int64 \n",
      " 1   Age               2800 non-null   int64 \n",
      " 2   Job               2786 non-null   object\n",
      " 3   Marital           2800 non-null   object\n",
      " 4   Education         2669 non-null   object\n",
      " 5   Default           2800 non-null   int64 \n",
      " 6   Balance           2800 non-null   int64 \n",
      " 7   HHInsurance       2800 non-null   int64 \n",
      " 8   CarLoan           2800 non-null   int64 \n",
      " 9   Communication     2185 non-null   object\n",
      " 10  LastContactDay    2800 non-null   int64 \n",
      " 11  LastContactMonth  2800 non-null   object\n",
      " 12  NoOfContacts      2800 non-null   int64 \n",
      " 13  DaysPassed        2800 non-null   int64 \n",
      " 14  PrevAttempts      2800 non-null   int64 \n",
      " 15  Outcome           648 non-null    object\n",
      " 16  CallStart         2800 non-null   object\n",
      " 17  CallEnd           2800 non-null   object\n",
      "dtypes: int64(10), object(8)\n",
      "memory usage: 415.6+ KB\n"
     ]
    }
   ],
   "source": [
    "X_train.info()"
   ]
  },
  {
   "cell_type": "markdown",
   "id": "178efdbd",
   "metadata": {},
   "source": [
    "Others will be more tricky, as `Job`, we can encode is as one-hot vector"
   ]
  },
  {
   "cell_type": "code",
   "execution_count": 11,
   "id": "92b5e2bf",
   "metadata": {},
   "outputs": [
    {
     "data": {
      "text/plain": [
       "(12,\n",
       " array(['technician', 'admin.', 'blue-collar', 'self-employed',\n",
       "        'management', 'services', 'retired', 'entrepreneur', 'student',\n",
       "        'housemaid', 'unemployed', nan], dtype=object))"
      ]
     },
     "execution_count": 11,
     "metadata": {},
     "output_type": "execute_result"
    }
   ],
   "source": [
    "len(X_train.Job.unique()), X_train.Job.unique()"
   ]
  },
  {
   "cell_type": "markdown",
   "id": "e00add7f",
   "metadata": {},
   "source": [
    "But the downside is we are going to have `n-1=11` columns to just encode it."
   ]
  },
  {
   "cell_type": "markdown",
   "id": "52fbe157",
   "metadata": {},
   "source": [
    "Lets try it"
   ]
  },
  {
   "cell_type": "code",
   "execution_count": 12,
   "id": "fa48e444",
   "metadata": {},
   "outputs": [
    {
     "data": {
      "text/plain": [
       "LabelBinarizer()"
      ]
     },
     "execution_count": 12,
     "metadata": {},
     "output_type": "execute_result"
    }
   ],
   "source": [
    "from sklearn.preprocessing import LabelBinarizer\n",
    "\n",
    "jobs_available = X_train['Job'].unique()\n",
    "# remove nans from the list\n",
    "jobs_available= list(filter(lambda v: v==v, jobs_available))\n",
    "# fit enocder\n",
    "jobs_encoder = LabelBinarizer()\n",
    "jobs_encoder.fit(jobs_available)"
   ]
  },
  {
   "cell_type": "markdown",
   "id": "06b54430",
   "metadata": {},
   "source": [
    "Another solution would be encoding them in order, in here we will order them according to the balance variance as balance mean ~ zero for each job"
   ]
  },
  {
   "cell_type": "code",
   "execution_count": 13,
   "id": "3e275bd6",
   "metadata": {},
   "outputs": [
    {
     "data": {
      "text/plain": [
       "<matplotlib.legend.Legend at 0x2260762b2b0>"
      ]
     },
     "execution_count": 13,
     "metadata": {},
     "output_type": "execute_result"
    },
    {
     "data": {
      "image/png": "[encoded data removed]",
      "text/plain": [
       "<Figure size 1080x360 with 1 Axes>"
      ]
     },
     "metadata": {},
     "output_type": "display_data"
    }
   ],
   "source": [
    "for job in df.Job.unique():\n",
    "    if type(job)==str:\n",
    "        X_train[X_train['Job']==job]['Balance'].rename(job, inplace=False).plot(kind='kde', figsize=(15,5))\n",
    "\n",
    "plt.legend()"
   ]
  },
  {
   "cell_type": "code",
   "execution_count": 14,
   "id": "dfbe85a9",
   "metadata": {},
   "outputs": [],
   "source": [
    "k = {}\n",
    "for job in df.Job.unique():\n",
    "    if type(job)==str:\n",
    "        \n",
    "        k[job] = X_train[X_train['Job']==job]['Balance'].var()\n"
   ]
  },
  {
   "cell_type": "code",
   "execution_count": 15,
   "id": "0a222bf2",
   "metadata": {},
   "outputs": [
    {
     "data": {
      "text/plain": [
       "[('self-employed', 33625958.36883868),\n",
       " ('management', 31142250.047809105),\n",
       " ('retired', 26617441.959335938),\n",
       " ('entrepreneur', 13335348.303296702),\n",
       " ('student', 9870147.310612136),\n",
       " ('technician', 9571461.819984328),\n",
       " ('unemployed', 5962465.371148459),\n",
       " ('blue-collar', 4664419.064081462),\n",
       " ('admin.', 3892396.6269993405),\n",
       " ('services', 2672107.086743044),\n",
       " ('housemaid', 1192137.9868464868)]"
      ]
     },
     "execution_count": 15,
     "metadata": {},
     "output_type": "execute_result"
    }
   ],
   "source": [
    "sorted(k.items(), key=lambda x: x[1], reverse=True)"
   ]
  },
  {
   "cell_type": "code",
   "execution_count": 16,
   "id": "7f22d3bc",
   "metadata": {},
   "outputs": [],
   "source": [
    "def encodeJob(X):\n",
    "    job_dict = {\n",
    "        'housemaid':0,\n",
    "        'services':1,\n",
    "        'admin.':2,\n",
    "        'blue-collar':3,\n",
    "        'unemployed':4,\n",
    "        'technician':5,\n",
    "        'student':6,\n",
    "        'entrepreneur':7,\n",
    "        'retired':8,\n",
    "        'management':9,\n",
    "        'self-employed':10,\n",
    "    }\n",
    "    X = X.copy()\n",
    "    X['Job'] = X['Job'].replace(job_dict, inplace=False)\n",
    "    return X"
   ]
  },
  {
   "cell_type": "markdown",
   "id": "2efa16cd",
   "metadata": {},
   "source": [
    "And for Calls, we will calculate the call duration and drop CallEnd.\n",
    "\n",
    "As the time of starting the call call may be an important factor beside how long the call took."
   ]
  },
  {
   "cell_type": "code",
   "execution_count": 17,
   "id": "7edc0d60",
   "metadata": {},
   "outputs": [],
   "source": [
    "def preprocessCallTime(X):\n",
    "    X = X.copy()\n",
    "    X['CallEnd'] = pd.to_datetime(X['CallEnd'],  infer_datetime_format=True)\n",
    "    X['CallStart'] = pd.to_datetime(X['CallStart'],  infer_datetime_format=True)\n",
    "    X['CallDuration'] = X['CallEnd'] - X['CallStart']    \n",
    "    X['CallDuration'] = (X['CallDuration'].values.astype(np.longlong)/1e9).astype(int)\n",
    "    X['CallStart'] = X['CallStart'].apply(lambda x: int(x.strftime(\"%H\")))\n",
    "    X.drop('CallEnd', axis=1, inplace=True)\n",
    "    return X"
   ]
  },
  {
   "cell_type": "markdown",
   "id": "0fa6e393",
   "metadata": {},
   "source": [
    "Now Let's put all together in one function"
   ]
  },
  {
   "cell_type": "code",
   "execution_count": 18,
   "id": "bde7b39b",
   "metadata": {},
   "outputs": [],
   "source": [
    "def preprocessing(X, job_hot_encoding=False):\n",
    "    # Deep copy first\n",
    "    \n",
    "    X = X.copy()\n",
    "    # Drop unwanted columns\n",
    "    X = preprocessingDrop(X)\n",
    "\n",
    "    # Imputer\n",
    "    col, idx = X.columns, X.index\n",
    "    X = pd.DataFrame(imputer.transform(X))\n",
    "    X.columns, X.index = col, idx\n",
    "    \n",
    "    # Simple One column encoding\n",
    "    X = encodeLastContactMonth(X)\n",
    "    X = encodeCommunication(X)\n",
    "    X = encodeMarital(X)\n",
    "    X = encodeEducation(X)\n",
    "\n",
    "    # Feature Calculation\n",
    "    X = preprocessCallTime(X)\n",
    "\n",
    "    # Job Hot-Vector\n",
    "    if job_hot_encoding:\n",
    "        transformed = jobs_encoder.transform(X['Job'])\n",
    "        ohe_df = pd.DataFrame(transformed, columns=jobs_encoder.classes_)\n",
    "        ohe_df.index = X.index\n",
    "        X = pd.concat([X, ohe_df], axis=1).drop('Job', axis=1)\n",
    "    else:\n",
    "        X = encodeJob(X)\n",
    "    return X\n",
    "\n",
    "\n"
   ]
  },
  {
   "cell_type": "code",
   "execution_count": 24,
   "id": "ec12e3c1",
   "metadata": {},
   "outputs": [],
   "source": [
    "from statistics import median\n",
    "from sklearn.model_selection import cross_val_score\n",
    "\n",
    "def cross_val_classifiers(X, Y, clfs, labels=None):\n",
    "    scores = []\n",
    "    best_median_score = 0\n",
    "    for i in range(len(clfs)):\n",
    "        score = cross_val_score(clfs[i], X, Y)\n",
    "        scores.append(score)\n",
    "        m = median(score)\n",
    "        if m > best_median_score:\n",
    "            best_median_score = m\n",
    "    \n",
    "    if labels is None:\n",
    "        labels = clfs\n",
    "        \n",
    "    scores_df = pd.DataFrame(columns=labels, data=np.array(scores).T)\n",
    "    return scores_df"
   ]
  },
  {
   "cell_type": "code",
   "execution_count": 80,
   "id": "ec12e3c1",
   "metadata": {},
   "outputs": [],
   "source": [
    "from statistics import median\n",
    "from sklearn.model_selection import cross_val_score\n",
    "\n",
    "def cross_val_classifiers(X, Y, clfs, labels=None):\n",
    "    scores = []\n",
    "    best_median_score = 0\n",
    "    for i in range(len(clfs)):\n",
    "        score = cross_val_score(clfs[i], X, Y)\n",
    "        scores.append(score)\n",
    "        m = median(score)\n",
    "        if m > best_median_score:\n",
    "            best_median_score = m\n",
    "    \n",
    "    if labels is None:\n",
    "        labels = clfs\n",
    "        \n",
    "    scores_df = pd.DataFrame(columns=labels, data=np.array(scores).T)\n",
    "    return scores_df"
   ]
  },
  {
   "cell_type": "markdown",
   "id": "cd876812",
   "metadata": {},
   "source": [
    "Cross validation without `job` hot encoded"
   ]
  },
  {
   "cell_type": "code",
   "execution_count": 81,
   "id": "3372f356",
   "metadata": {},
   "outputs": [
    {
     "data": {
      "text/html": [
       "<div>\n",
       "<style scoped>\n",
       "    .dataframe tbody tr th:only-of-type {\n",
       "        vertical-align: middle;\n",
       "    }\n",
       "\n",
       "    .dataframe tbody tr th {\n",
       "        vertical-align: top;\n",
       "    }\n",
       "\n",
       "    .dataframe thead th {\n",
       "        text-align: right;\n",
       "    }\n",
       "</style>\n",
       "<table border=\"1\" class=\"dataframe\">\n",
       "  <thead>\n",
       "    <tr style=\"text-align: right;\">\n",
       "      <th></th>\n",
       "      <th>RandomForestClassifier()</th>\n",
       "      <th>GaussianNB()</th>\n",
       "    </tr>\n",
       "  </thead>\n",
       "  <tbody>\n",
       "    <tr>\n",
       "      <th>0</th>\n",
       "      <td>0.830357</td>\n",
       "      <td>0.735714</td>\n",
       "    </tr>\n",
       "    <tr>\n",
       "      <th>1</th>\n",
       "      <td>0.830357</td>\n",
       "      <td>0.733929</td>\n",
       "    </tr>\n",
       "    <tr>\n",
       "      <th>2</th>\n",
       "      <td>0.823214</td>\n",
       "      <td>0.753571</td>\n",
       "    </tr>\n",
       "    <tr>\n",
       "      <th>3</th>\n",
       "      <td>0.844643</td>\n",
       "      <td>0.767857</td>\n",
       "    </tr>\n",
       "    <tr>\n",
       "      <th>4</th>\n",
       "      <td>0.846429</td>\n",
       "      <td>0.769643</td>\n",
       "    </tr>\n",
       "  </tbody>\n",
       "</table>\n",
       "</div>"
      ],
      "text/plain": [
       "   RandomForestClassifier()  GaussianNB()\n",
       "0                  0.830357      0.735714\n",
       "1                  0.830357      0.733929\n",
       "2                  0.823214      0.753571\n",
       "3                  0.844643      0.767857\n",
       "4                  0.846429      0.769643"
      ]
     },
     "execution_count": 81,
     "metadata": {},
     "output_type": "execute_result"
    }
   ],
   "source": [
    "from sklearn.ensemble import RandomForestClassifier\n",
    "from sklearn.naive_bayes import GaussianNB\n",
    "\n",
    "\n",
    "X_job_o = preprocessing(X_train, job_hot_encoding=False)\n",
    "cross_val_classifiers(X_job_o, y_train, [RandomForestClassifier(), GaussianNB()], labels=None)"
   ]
  },
  {
   "cell_type": "markdown",
   "id": "0745fe44",
   "metadata": {},
   "source": [
    "Cross Validation with `job` hot encodeing"
   ]
  },
  {
   "cell_type": "code",
   "execution_count": 82,
   "id": "657e73c7",
   "metadata": {},
   "outputs": [
    {
     "data": {
      "text/html": [
       "<div>\n",
       "<style scoped>\n",
       "    .dataframe tbody tr th:only-of-type {\n",
       "        vertical-align: middle;\n",
       "    }\n",
       "\n",
       "    .dataframe tbody tr th {\n",
       "        vertical-align: top;\n",
       "    }\n",
       "\n",
       "    .dataframe thead th {\n",
       "        text-align: right;\n",
       "    }\n",
       "</style>\n",
       "<table border=\"1\" class=\"dataframe\">\n",
       "  <thead>\n",
       "    <tr style=\"text-align: right;\">\n",
       "      <th></th>\n",
       "      <th>RandomForestClassifier()</th>\n",
       "      <th>GaussianNB()</th>\n",
       "    </tr>\n",
       "  </thead>\n",
       "  <tbody>\n",
       "    <tr>\n",
       "      <th>0</th>\n",
       "      <td>0.816071</td>\n",
       "      <td>0.721429</td>\n",
       "    </tr>\n",
       "    <tr>\n",
       "      <th>1</th>\n",
       "      <td>0.825000</td>\n",
       "      <td>0.712500</td>\n",
       "    </tr>\n",
       "    <tr>\n",
       "      <th>2</th>\n",
       "      <td>0.821429</td>\n",
       "      <td>0.750000</td>\n",
       "    </tr>\n",
       "    <tr>\n",
       "      <th>3</th>\n",
       "      <td>0.833929</td>\n",
       "      <td>0.746429</td>\n",
       "    </tr>\n",
       "    <tr>\n",
       "      <th>4</th>\n",
       "      <td>0.844643</td>\n",
       "      <td>0.733929</td>\n",
       "    </tr>\n",
       "  </tbody>\n",
       "</table>\n",
       "</div>"
      ],
      "text/plain": [
       "   RandomForestClassifier()  GaussianNB()\n",
       "0                  0.816071      0.721429\n",
       "1                  0.825000      0.712500\n",
       "2                  0.821429      0.750000\n",
       "3                  0.833929      0.746429\n",
       "4                  0.844643      0.733929"
      ]
     },
     "execution_count": 82,
     "metadata": {},
     "output_type": "execute_result"
    }
   ],
   "source": [
    "X_job_he = preprocessing(X_train, job_hot_encoding=True)\n",
    "cross_val_classifiers(X_job_he, y_train, [RandomForestClassifier(), GaussianNB()], labels=None)"
   ]
  },
  {
   "cell_type": "markdown",
   "id": "1a47584e",
   "metadata": {},
   "source": [
    "> Hot encoding didn't increase accuracy, so we will stick with the order encoding for `job`."
   ]
  },
  {
   "cell_type": "code",
   "execution_count": 83,
   "id": "9e986d5d",
   "metadata": {},
   "outputs": [],
   "source": [
    "X_preprocessed = X_job_o"
   ]
  },
  {
   "cell_type": "markdown",
   "id": "a88c65a3",
   "metadata": {},
   "source": [
    "# 4. Model Selection"
   ]
  },
  {
   "cell_type": "code",
   "execution_count": 99,
   "id": "67e66b2b",
   "metadata": {},
   "outputs": [],
   "source": [
    "from sklearn.neighbors import KNeighborsClassifier\n",
    "from sklearn.svm import SVC\n",
    "from sklearn.tree import DecisionTreeClassifier\n",
    "from sklearn.ensemble import RandomForestClassifier, AdaBoostClassifier\n",
    "from sklearn.naive_bayes import GaussianNB\n",
    "from sklearn.linear_model import LogisticRegression\n",
    "\n",
    "names = [\n",
    "    \"K Nearest Neighbors\",\n",
    "    \"RBF SVM\",\n",
    "    \"Poly SVM\",\n",
    "    \"Sigmoid SVM\",\n",
    "    \"Decision Tree\",\n",
    "    \"Random Forest\",\n",
    "    \"LogisticRegression\",\n",
    "    \"AdaBoost\",\n",
    "    \"Naive Bayes\",\n",
    "]\n",
    "\n",
    "classifiers = [\n",
    "    KNeighborsClassifier(),\n",
    "    SVC(kernel=\"rbf\", random_state=42),\n",
    "    SVC(kernel=\"poly\", random_state=42),\n",
    "    SVC(kernel=\"sigmoid\", random_state=42),\n",
    "    DecisionTreeClassifier(random_state=42),\n",
    "    RandomForestClassifier(random_state=42),\n",
    "    LogisticRegression(random_state=42, max_iter=2000),\n",
    "    AdaBoostClassifier(random_state=42),\n",
    "    GaussianNB(),\n",
    "]\n"
   ]
  },
  {
   "cell_type": "code",
   "execution_count": 100,
   "id": "fac8bafe",
   "metadata": {},
   "outputs": [
    {
     "data": {
      "text/html": [
       "<div>\n",
       "<style scoped>\n",
       "    .dataframe tbody tr th:only-of-type {\n",
       "        vertical-align: middle;\n",
       "    }\n",
       "\n",
       "    .dataframe tbody tr th {\n",
       "        vertical-align: top;\n",
       "    }\n",
       "\n",
       "    .dataframe thead th {\n",
       "        text-align: right;\n",
       "    }\n",
       "</style>\n",
       "<table border=\"1\" class=\"dataframe\">\n",
       "  <thead>\n",
       "    <tr style=\"text-align: right;\">\n",
       "      <th></th>\n",
       "      <th>K Nearest Neighbors</th>\n",
       "      <th>RBF SVM</th>\n",
       "      <th>Poly SVM</th>\n",
       "      <th>Sigmoid SVM</th>\n",
       "      <th>Decision Tree</th>\n",
       "      <th>Random Forest</th>\n",
       "      <th>LogisticRegression</th>\n",
       "      <th>AdaBoost</th>\n",
       "      <th>Naive Bayes</th>\n",
       "    </tr>\n",
       "  </thead>\n",
       "  <tbody>\n",
       "    <tr>\n",
       "      <th>0</th>\n",
       "      <td>0.748214</td>\n",
       "      <td>0.737500</td>\n",
       "      <td>0.619643</td>\n",
       "      <td>0.603571</td>\n",
       "      <td>0.744643</td>\n",
       "      <td>0.825000</td>\n",
       "      <td>0.782143</td>\n",
       "      <td>0.816071</td>\n",
       "      <td>0.735714</td>\n",
       "    </tr>\n",
       "    <tr>\n",
       "      <th>1</th>\n",
       "      <td>0.725000</td>\n",
       "      <td>0.717857</td>\n",
       "      <td>0.623214</td>\n",
       "      <td>0.560714</td>\n",
       "      <td>0.750000</td>\n",
       "      <td>0.828571</td>\n",
       "      <td>0.787500</td>\n",
       "      <td>0.828571</td>\n",
       "      <td>0.733929</td>\n",
       "    </tr>\n",
       "    <tr>\n",
       "      <th>2</th>\n",
       "      <td>0.767857</td>\n",
       "      <td>0.733929</td>\n",
       "      <td>0.603571</td>\n",
       "      <td>0.594643</td>\n",
       "      <td>0.741071</td>\n",
       "      <td>0.817857</td>\n",
       "      <td>0.780357</td>\n",
       "      <td>0.810714</td>\n",
       "      <td>0.753571</td>\n",
       "    </tr>\n",
       "    <tr>\n",
       "      <th>3</th>\n",
       "      <td>0.746429</td>\n",
       "      <td>0.744643</td>\n",
       "      <td>0.612500</td>\n",
       "      <td>0.607143</td>\n",
       "      <td>0.767857</td>\n",
       "      <td>0.839286</td>\n",
       "      <td>0.776786</td>\n",
       "      <td>0.798214</td>\n",
       "      <td>0.767857</td>\n",
       "    </tr>\n",
       "    <tr>\n",
       "      <th>4</th>\n",
       "      <td>0.746429</td>\n",
       "      <td>0.760714</td>\n",
       "      <td>0.617857</td>\n",
       "      <td>0.542857</td>\n",
       "      <td>0.742857</td>\n",
       "      <td>0.833929</td>\n",
       "      <td>0.800000</td>\n",
       "      <td>0.825000</td>\n",
       "      <td>0.769643</td>\n",
       "    </tr>\n",
       "  </tbody>\n",
       "</table>\n",
       "</div>"
      ],
      "text/plain": [
       "   K Nearest Neighbors   RBF SVM  Poly SVM  Sigmoid SVM  Decision Tree  \\\n",
       "0             0.748214  0.737500  0.619643     0.603571       0.744643   \n",
       "1             0.725000  0.717857  0.623214     0.560714       0.750000   \n",
       "2             0.767857  0.733929  0.603571     0.594643       0.741071   \n",
       "3             0.746429  0.744643  0.612500     0.607143       0.767857   \n",
       "4             0.746429  0.760714  0.617857     0.542857       0.742857   \n",
       "\n",
       "   Random Forest  LogisticRegression  AdaBoost  Naive Bayes  \n",
       "0       0.825000            0.782143  0.816071     0.735714  \n",
       "1       0.828571            0.787500  0.828571     0.733929  \n",
       "2       0.817857            0.780357  0.810714     0.753571  \n",
       "3       0.839286            0.776786  0.798214     0.767857  \n",
       "4       0.833929            0.800000  0.825000     0.769643  "
      ]
     },
     "execution_count": 100,
     "metadata": {},
     "output_type": "execute_result"
    }
   ],
   "source": [
    "cross_val_classifiers(X_preprocessed, y_train, clfs=classifiers, labels=names)"
   ]
  },
  {
   "cell_type": "markdown",
   "id": "d7c7167c",
   "metadata": {},
   "source": [
    "## Grid Search To get best params"
   ]
  },
  {
   "cell_type": "code",
   "execution_count": 86,
   "id": "01e9a13e",
   "metadata": {},
   "outputs": [
    {
     "data": {
      "text/plain": [
       "GridSearchCV(estimator=RandomForestClassifier(random_state=42), n_jobs=-1,\n",
       "             param_grid={'bootstrap': [True, False],\n",
       "                         'criterion': ['entropy', 'gini'],\n",
       "                         'max_features': ['auto', 'sqrt', 'log2'],\n",
       "                         'n_estimators': [100, 200, 300, 400, 500, 600, 700]})"
      ]
     },
     "execution_count": 86,
     "metadata": {},
     "output_type": "execute_result"
    }
   ],
   "source": [
    "from sklearn.model_selection import GridSearchCV\n",
    "param_grid = { \n",
    "    'n_estimators': [i for i in range(100, 800, 100)],\n",
    "    'max_features': ['auto', 'sqrt', 'log2'],\n",
    "    'bootstrap': [True, False],\n",
    "    'criterion' :['entropy', 'gini']\n",
    "}\n",
    "\n",
    "CV_rfc = GridSearchCV(estimator=RandomForestClassifier(random_state=42), param_grid=param_grid, n_jobs=-1)\n",
    "CV_rfc.fit(X_preprocessed, y_train)\n"
   ]
  },
  {
   "cell_type": "code",
   "execution_count": 91,
   "id": "ae25c04b",
   "metadata": {},
   "outputs": [],
   "source": [
    "rf_best_params = CV_rfc.best_params_"
   ]
  },
  {
   "cell_type": "code",
   "execution_count": 116,
   "id": "b9f7728b",
   "metadata": {},
   "outputs": [
    {
     "data": {
      "text/plain": [
       "GridSearchCV(estimator=AdaBoostClassifier(random_state=42), n_jobs=-1,\n",
       "             param_grid={'algorithm': ['SAMME', 'SAMME.R'],\n",
       "                         'base_estimator': [None,\n",
       "                                            DecisionTreeClassifier(random_state=42),\n",
       "                                            RandomForestClassifier(random_state=42)],\n",
       "                         'learning_rate': [0.5, 1],\n",
       "                         'n_estimators': [100, 200, 300, 400, 500, 600, 700]})"
      ]
     },
     "execution_count": 116,
     "metadata": {},
     "output_type": "execute_result"
    }
   ],
   "source": [
    "from sklearn.model_selection import GridSearchCV\n",
    "param_grid = {\n",
    "    \"learning_rate\": [0.5, 1],\n",
    "    \"n_estimators\": [i for i in range(100, 800, 100)],\n",
    "    \"algorithm\" : [\"SAMME\", \"SAMME.R\"],\n",
    "    \"base_estimator\":[None, DecisionTreeClassifier(random_state=42), RandomForestClassifier(random_state=42)]\n",
    "    }\n",
    "\n",
    "\n",
    "CV_adaboost = GridSearchCV(AdaBoostClassifier(random_state=42), param_grid=param_grid, n_jobs=-1)\n",
    "\n",
    "CV_adaboost.fit(X_preprocessed, y_train)\n"
   ]
  },
  {
   "cell_type": "code",
   "execution_count": 117,
   "id": "72965b69",
   "metadata": {},
   "outputs": [],
   "source": [
    "ab_best_params = CV_adaboost.best_params_"
   ]
  },
  {
   "cell_type": "code",
   "execution_count": 130,
   "id": "0d52f99c",
   "metadata": {},
   "outputs": [],
   "source": [
    "from sklearn.model_selection import GridSearchCV\n",
    "param_grid = {\n",
    "    'C': [0.1, 1, 10, 100, 1000],\n",
    "    'gamma': [1, 0.1, 0.01, 0.001, 0.0001],\n",
    "    'kernel': ['rbf', 'sigmoid', 'poly']\n",
    "    }\n",
    "\n",
    "\n",
    "CV_svm = GridSearchCV(SVC(random_state=42), param_grid=param_grid, n_jobs=-1)\n",
    "\n",
    "CV_svm.fit(X_preprocessed, y_train)\n"
   ]
  },
  {
   "cell_type": "code",
   "execution_count": 122,
   "id": "383c1682",
   "metadata": {},
   "outputs": [],
   "source": [
    "svm_best_params = CV_svm.best_params_"
   ]
  },
  {
   "cell_type": "code",
   "execution_count": 124,
   "id": "495521ff",
   "metadata": {},
   "outputs": [],
   "source": [
    "score_all = cross_val_classifiers(X_preprocessed, y_train, [\n",
    "    RandomForestClassifier(random_state=42),\n",
    "    RandomForestClassifier(random_state=42).set_params(**rf_best_params),\n",
    "    AdaBoostClassifier(random_state=42),\n",
    "    AdaBoostClassifier(random_state=42).set_params(**ab_best_params),\n",
    "    SVC(random_state=42),\n",
    "    SVC(random_state=42).set_params(**svm_best_params),\n",
    "    ], [\"Default Random Forest\", \"Best Params Random Forest\", \"Default Adaboost\",  \"Best Params Adaboost\", \"Default SVM\",  \"Best Params SVM\"])"
   ]
  },
  {
   "cell_type": "code",
   "execution_count": 125,
   "id": "e7afb1a4",
   "metadata": {},
   "outputs": [
    {
     "data": {
      "text/html": [
       "<div>\n",
       "<style scoped>\n",
       "    .dataframe tbody tr th:only-of-type {\n",
       "        vertical-align: middle;\n",
       "    }\n",
       "\n",
       "    .dataframe tbody tr th {\n",
       "        vertical-align: top;\n",
       "    }\n",
       "\n",
       "    .dataframe thead th {\n",
       "        text-align: right;\n",
       "    }\n",
       "</style>\n",
       "<table border=\"1\" class=\"dataframe\">\n",
       "  <thead>\n",
       "    <tr style=\"text-align: right;\">\n",
       "      <th></th>\n",
       "      <th>Default Random Forest</th>\n",
       "      <th>Best Params Random Forest</th>\n",
       "      <th>Default Adaboost</th>\n",
       "      <th>Best Params Adaboost</th>\n",
       "      <th>Default SVM</th>\n",
       "      <th>Best Params SVM</th>\n",
       "    </tr>\n",
       "  </thead>\n",
       "  <tbody>\n",
       "    <tr>\n",
       "      <th>0</th>\n",
       "      <td>0.825000</td>\n",
       "      <td>0.835714</td>\n",
       "      <td>0.816071</td>\n",
       "      <td>0.819643</td>\n",
       "      <td>0.737500</td>\n",
       "      <td>0.735714</td>\n",
       "    </tr>\n",
       "    <tr>\n",
       "      <th>1</th>\n",
       "      <td>0.828571</td>\n",
       "      <td>0.832143</td>\n",
       "      <td>0.828571</td>\n",
       "      <td>0.823214</td>\n",
       "      <td>0.717857</td>\n",
       "      <td>0.735714</td>\n",
       "    </tr>\n",
       "    <tr>\n",
       "      <th>2</th>\n",
       "      <td>0.817857</td>\n",
       "      <td>0.841071</td>\n",
       "      <td>0.810714</td>\n",
       "      <td>0.817857</td>\n",
       "      <td>0.733929</td>\n",
       "      <td>0.758929</td>\n",
       "    </tr>\n",
       "    <tr>\n",
       "      <th>3</th>\n",
       "      <td>0.839286</td>\n",
       "      <td>0.850000</td>\n",
       "      <td>0.798214</td>\n",
       "      <td>0.844643</td>\n",
       "      <td>0.744643</td>\n",
       "      <td>0.746429</td>\n",
       "    </tr>\n",
       "    <tr>\n",
       "      <th>4</th>\n",
       "      <td>0.833929</td>\n",
       "      <td>0.844643</td>\n",
       "      <td>0.825000</td>\n",
       "      <td>0.844643</td>\n",
       "      <td>0.760714</td>\n",
       "      <td>0.750000</td>\n",
       "    </tr>\n",
       "  </tbody>\n",
       "</table>\n",
       "</div>"
      ],
      "text/plain": [
       "   Default Random Forest  Best Params Random Forest  Default Adaboost  \\\n",
       "0               0.825000                   0.835714          0.816071   \n",
       "1               0.828571                   0.832143          0.828571   \n",
       "2               0.817857                   0.841071          0.810714   \n",
       "3               0.839286                   0.850000          0.798214   \n",
       "4               0.833929                   0.844643          0.825000   \n",
       "\n",
       "   Best Params Adaboost  Default SVM  Best Params SVM  \n",
       "0              0.819643     0.737500         0.735714  \n",
       "1              0.823214     0.717857         0.735714  \n",
       "2              0.817857     0.733929         0.758929  \n",
       "3              0.844643     0.744643         0.746429  \n",
       "4              0.844643     0.760714         0.750000  "
      ]
     },
     "execution_count": 125,
     "metadata": {},
     "output_type": "execute_result"
    }
   ],
   "source": [
    "score_all"
   ]
  },
  {
   "cell_type": "code",
   "execution_count": 127,
   "id": "1579a62a",
   "metadata": {},
   "outputs": [
    {
     "data": {
      "text/plain": [
       "0.8369047619047619"
      ]
     },
     "execution_count": 127,
     "metadata": {},
     "output_type": "execute_result"
    }
   ],
   "source": [
    "CV_rfc.score(preprocessing(X_validation), y_validation)"
   ]
  },
  {
   "cell_type": "code",
   "execution_count": 128,
   "id": "ba2c4963",
   "metadata": {},
   "outputs": [
    {
     "data": {
      "text/plain": [
       "0.8380952380952381"
      ]
     },
     "execution_count": 128,
     "metadata": {},
     "output_type": "execute_result"
    }
   ],
   "source": [
    "CV_adaboost.score(preprocessing(X_validation), y_validation)"
   ]
  },
  {
   "cell_type": "code",
   "execution_count": 129,
   "id": "61a9fe37",
   "metadata": {},
   "outputs": [
    {
     "data": {
      "text/plain": [
       "0.7511904761904762"
      ]
     },
     "execution_count": 129,
     "metadata": {},
     "output_type": "execute_result"
    }
   ],
   "source": [
    "CV_svm.score(preprocessing(X_validation), y_validation)"
   ]
  }
 ],
 "metadata": {
  "interpreter": {
   "hash": "81794d4967e6c3204c66dcd87b604927b115b27c00565d3d43f05ba2f3a2cb0d"
  },
  "kernelspec": {
   "display_name": "Python 3.9.7 64-bit",
   "language": "python",
   "name": "python3"
  },
  "language_info": {
   "codemirror_mode": {
    "name": "ipython",
    "version": 3
   },
   "file_extension": ".py",
   "mimetype": "text/x-python",
   "name": "python",
   "nbconvert_exporter": "python",
   "pygments_lexer": "ipython3",
   "version": "3.9.7"
  }
 },
 "nbformat": 4,
 "nbformat_minor": 5
}
